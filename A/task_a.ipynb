{
 "cells": [
  {
   "cell_type": "markdown",
   "metadata": {},
   "source": [
    "# Import dependencies"
   ]
  },
  {
   "cell_type": "code",
   "execution_count": 1,
   "metadata": {},
   "outputs": [
    {
     "name": "stderr",
     "output_type": "stream",
     "text": [
      "2024-01-14 21:34:21.559598: I external/local_tsl/tsl/cuda/cudart_stub.cc:31] Could not find cuda drivers on your machine, GPU will not be used.\n",
      "2024-01-14 21:34:21.581757: E external/local_xla/xla/stream_executor/cuda/cuda_dnn.cc:9261] Unable to register cuDNN factory: Attempting to register factory for plugin cuDNN when one has already been registered\n",
      "2024-01-14 21:34:21.581783: E external/local_xla/xla/stream_executor/cuda/cuda_fft.cc:607] Unable to register cuFFT factory: Attempting to register factory for plugin cuFFT when one has already been registered\n",
      "2024-01-14 21:34:21.582639: E external/local_xla/xla/stream_executor/cuda/cuda_blas.cc:1515] Unable to register cuBLAS factory: Attempting to register factory for plugin cuBLAS when one has already been registered\n",
      "2024-01-14 21:34:21.586398: I external/local_tsl/tsl/cuda/cudart_stub.cc:31] Could not find cuda drivers on your machine, GPU will not be used.\n",
      "2024-01-14 21:34:21.587179: I tensorflow/core/platform/cpu_feature_guard.cc:182] This TensorFlow binary is optimized to use available CPU instructions in performance-critical operations.\n",
      "To enable the following instructions: AVX2 FMA, in other operations, rebuild TensorFlow with the appropriate compiler flags.\n",
      "2024-01-14 21:34:22.150198: W tensorflow/compiler/tf2tensorrt/utils/py_utils.cc:38] TF-TRT Warning: Could not find TensorRT\n"
     ]
    }
   ],
   "source": [
    "import numpy as np\n",
    "import pandas as pd\n",
    "import tensorflow as tf\n",
    "from matplotlib import pyplot as plt"
   ]
  },
  {
   "cell_type": "markdown",
   "metadata": {},
   "source": [
    "# Load datasets and extract images"
   ]
  },
  {
   "cell_type": "code",
   "execution_count": 5,
   "metadata": {},
   "outputs": [
    {
     "name": "stdout",
     "output_type": "stream",
     "text": [
      "dataset keys:                0\n",
      "0  train_images\n",
      "1    val_images\n",
      "2   test_images\n",
      "3  train_labels\n",
      "4    val_labels\n"
     ]
    }
   ],
   "source": [
    "dataset = np.load('../Datasets/pneumoniamnist.npz')\n",
    "print(\"dataset keys: \", pd.DataFrame(dataset).head())\n",
    "\n",
    "# extract images\n",
    "train_images = dataset['train_images']\n",
    "val_images = dataset['val_images']\n",
    "test_images = dataset['test_images']\n",
    "\n",
    "# extract labels\n",
    "train_labels = dataset['train_labels']\n",
    "val_labels = dataset['val_labels']"
   ]
  },
  {
   "cell_type": "markdown",
   "metadata": {},
   "source": [
    "# Get image dimensions"
   ]
  },
  {
   "cell_type": "code",
   "execution_count": 9,
   "metadata": {},
   "outputs": [
    {
     "name": "stdout",
     "output_type": "stream",
     "text": [
      "train_images_shape:  (4708, 28, 28)\n",
      "val_images_shape:  (524, 1)\n",
      "test_images_shape:  (624, 28, 28)\n",
      "train_labels_shape:  (4708, 1)\n",
      "val_images_shape:  (524, 1)\n"
     ]
    }
   ],
   "source": [
    "train_images_shape = np.shape(train_images)\n",
    "val_images_shape = np.shape(val_images)\n",
    "test_images_shape = np.shape(test_images)\n",
    "train_labels_shape = np.shape(train_labels)\n",
    "val_images_shape = np.shape(val_labels)\n",
    "\n",
    "print(\"train_images_shape: \", train_images_shape)\n",
    "print(\"val_images_shape: \", val_images_shape)\n",
    "print(\"test_images_shape: \", test_images_shape)\n",
    "print(\"train_labels_shape: \", train_labels_shape)\n",
    "print(\"val_images_shape: \", val_images_shape)\n"
   ]
  },
  {
   "cell_type": "markdown",
   "metadata": {},
   "source": [
    "# Visualising images"
   ]
  },
  {
   "cell_type": "code",
   "execution_count": 10,
   "metadata": {},
   "outputs": [
    {
     "name": "stdout",
     "output_type": "stream",
     "text": [
      "Test Image as array:  [[ 92 108 117 111 101  90  70  49  28  60  83 119 156 186 211 204 192 203\n",
      "  204 166 115  90  53   0   0   5   8   6]\n",
      " [129 138 141 132 120 111 100  89  97 110 105 117 144 173 195 181 194 193\n",
      "  178 142 110  92  57  11   6   4   2   3]\n",
      " [141 146 148 143 134 128 126 126 140 156 143 137 144 162 180 165 159 166\n",
      "  155 135 126 110  79  55   8   0   0   0]\n",
      " [120 126 135 139 139 138 143 150 135 172 178 170 160 162 176 165 163 175\n",
      "  161 140 132 110  86  83  46  28  19  27]\n",
      " [105 114 126 135 143 154 165 174 147 179 185 182 172 169 178 166 177 180\n",
      "  158 141 144 135 121 125 110  89  77  81]\n",
      " [101 113 125 133 148 168 181 183 180 180 163 166 173 175 179 164 172 169\n",
      "  158 159 178 183 168 154 137 123 113 114]\n",
      " [ 83 107 126 136 155 178 181 167 167 152 131 150 173 177 181 168 185 181\n",
      "  177 171 170 177 169 146 142 136 130 127]\n",
      " [ 62  97 127 144 166 187 175 147 120 114 112 149 177 177 184 179 183 178\n",
      "  172 146 122 143 172 170 161 160 152 141]\n",
      " [ 45  90 136 150 191 177 158 139 131 118 119 143 170 184 192 201 202 184\n",
      "  164 146 130 128 152 182 186 185 158 138]\n",
      " [ 37  89 139 174 181 163 132 123 118 123 139 162 180 188 193 197 194 181\n",
      "  163 142 123 119 137 160 176 181 159 139]\n",
      " [ 25  87 144 190 163 145 115 119 119 140 164 179 186 192 197 198 191 185\n",
      "  169 145 123 115 126 139 166 180 163 141]\n",
      " [ 21  94 161 185 150 134 124 129 133 158 178 181 183 195 203 202 191 189\n",
      "  176 150 125 115 119 127 158 182 170 142]\n",
      " [ 23 111 184 167 144 124 129 122 139 160 175 176 183 200 206 201 190 187\n",
      "  176 154 128 113 114 121 145 180 173 141]\n",
      " [ 27 125 186 143 133 109 108  98 134 151 167 176 191 206 207 198 193 188\n",
      "  181 167 141 117 114 124 130 175 173 136]\n",
      " [ 42 140 168 129 124 109  93 102 142 153 167 180 197 209 209 202 195 187\n",
      "  185 181 154 120 112 124 121 173 174 132]\n",
      " [ 64 156 155 130 124 125 100 134 160 164 172 184 197 208 211 210 191 181\n",
      "  183 185 158 116 103 117 121 175 176 130]\n",
      " [ 91 166 128 119 102  94 108 128 159 182 179 186 202 206 210 199 201 192\n",
      "  190 185 165 146 125 102 128 140 182 122]\n",
      " [103 161 122 118 110 101 110 126 152 178 178 189 206 210 216 208 199 187\n",
      "  185 185 174 159 138 112 119 135 178 117]\n",
      " [127 155 109 104 107  99 104 117 148 176 179 191 206 207 211 205 199 184\n",
      "  181 183 179 170 149 123 111 131 175 111]\n",
      " [142 141  92  84  96  90  94 104 133 163 172 190 206 205 208 202 199 184\n",
      "  180 181 176 170 155 133 107 128 173 109]\n",
      " [135 124  94  91 111 106 108 113 119 149 162 188 210 211 216 212 197 184\n",
      "  181 179 171 167 160 146 105 121 165 106]\n",
      " [130 128 131 135 160 155 156 154 141 162 167 191 212 212 216 212 191 181\n",
      "  179 178 170 167 162 150 103 108 152 103]\n",
      " [140 148 174 173 195 191 195 192 182 191 180 193 209 206 208 204 186 175\n",
      "  173 175 169 164 153 135 102  97 140 104]\n",
      " [151 161 193 182 196 194 203 203 203 204 184 191 206 204 208 206 184 170\n",
      "  167 171 167 159 140 115 103  91 134 106]\n",
      " [162 176 190 197 201 205 206 204 204 203 203 207 211 211 208 203 171 176\n",
      "  183 188 187 181 172 165 113  85  97 127]\n",
      " [168 180 192 198 202 207 210 210 211 210 211 214 218 219 215 211 194 195\n",
      "  196 195 192 185 176 170 148 119 115 126]\n",
      " [173 184 195 200 204 211 215 216 217 216 217 220 224 225 221 217 212 209\n",
      "  205 201 196 189 182 177 176 153 139 132]\n",
      " [173 185 198 204 209 214 217 217 218 217 217 220 224 225 221 217 213 209\n",
      "  204 201 198 193 186 180 177 168 154 139]]\n",
      "Test Image label:  [1]\n"
     ]
    },
    {
     "data": {
      "image/png": "[encoded data removed]",
      "text/plain": [
       "<Figure size 600x600 with 1 Axes>"
      ]
     },
     "metadata": {},
     "output_type": "display_data"
    }
   ],
   "source": [
    "test_image = train_images[0]\n",
    "test_image_label = train_labels[0]\n",
    "print('Test Image as array: ', test_image)\n",
    "print('Test Image label: ', test_image_label)\n",
    "# Visualizing the same image\n",
    "plt.figure(figsize=(6, 6))\n",
    "plt.imshow(test_image, cmap='gray') \n",
    "plt.show()"
   ]
  },
  {
   "cell_type": "markdown",
   "metadata": {},
   "source": [
    "# Visualize distribution of image labels where 1 is positive and 0 is negative"
   ]
  },
  {
   "cell_type": "code",
   "execution_count": null,
   "metadata": {},
   "outputs": [],
   "source": []
  }
 ],
 "metadata": {
  "kernelspec": {
   "display_name": ".venv",
   "language": "python",
   "name": "python3"
  },
  "language_info": {
   "codemirror_mode": {
    "name": "ipython",
    "version": 3
   },
   "file_extension": ".py",
   "mimetype": "text/x-python",
   "name": "python",
   "nbconvert_exporter": "python",
   "pygments_lexer": "ipython3",
   "version": "3.10.12"
  }
 },
 "nbformat": 4,
 "nbformat_minor": 2
}
